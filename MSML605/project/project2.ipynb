{
 "cells": [
  {
   "cell_type": "markdown",
   "id": "fbbd1900",
   "metadata": {},
   "source": [
    "#### Rohan Bhatt, Shubhang Srikoti \n",
    "##### MSML605 -  Investigating the Impact of Storage Formats\n",
    "Problem statement: How does the choice of storage format (CSV, Parquet, HDF5) impact the overall performance of a machine learning pipeline and its processes (data ingestion, memory overhead, time-to-train, and more).\n",
    "\n",
    "NOTE: THIS NOTEBOOK IS THE 2GB VARIANT OF THE PARQUET\n",
    "\n",
    "\n"
   ]
  },
  {
   "cell_type": "code",
   "execution_count": null,
   "id": "f15d0980",
   "metadata": {},
   "outputs": [
    {
     "name": "stdout",
     "output_type": "stream",
     "text": [
      "Keeping 169 row-groups  →  ~0.00 GB\n"
     ]
    }
   ],
   "source": [
    "#script to convert 10gb parquet to 2gb parquet\n",
    "import pyarrow.parquet as pq, pyarrow as pa, math\n",
    "from pathlib import Path\n",
    "\n",
    "SRC = Path(\"data.parquet\")          # 16-GB file\n",
    "DST = Path(r\"E:\\ML2\\data_2gb.parquet\")\n",
    "\n",
    "pq_src   = pq.ParquetFile(SRC)\n",
    "n_rg     = pq_src.num_row_groups\n",
    "\n",
    "# gather row-group sizes (compressed bytes on disk)\n",
    "rg_sizes = [pq_src.metadata.row_group(i).total_byte_size for i in range(n_rg)]\n",
    "\n",
    "target_bytes = 2 * 1024**3          # 2 GB\n",
    "keep_rg      = []\n",
    "cum          = 0\n",
    "for i, sz in enumerate(rg_sizes):\n",
    "    if cum + sz > target_bytes:\n",
    "        break\n",
    "    keep_rg.append(i)\n",
    "    cum += sz\n",
    "\n",
    "print(f\"Keeping {len(keep_rg)} row-groups  →  ~{cum/1024**3:.2f} GB\")\n",
    "\n",
    "# read & write subset\n",
    "tables = [pq_src.read_row_group(i) for i in keep_rg]\n",
    "subset = pa.concat_tables(tables)\n",
    "pq.write_table(subset, DST, compression=\"snappy\")   # or \"zstd\"\n",
    "\n",
    "print(f\"Subset rows: {subset.num_rows:,}\")\n",
    "print(\"Wrote:\", DST)"
   ]
  },
  {
   "cell_type": "code",
   "execution_count": null,
   "id": "38dfe004",
   "metadata": {},
   "outputs": [],
   "source": []
  }
 ],
 "metadata": {
  "kernelspec": {
   "display_name": "Python 3",
   "language": "python",
   "name": "python3"
  },
  "language_info": {
   "codemirror_mode": {
    "name": "ipython",
    "version": 3
   },
   "file_extension": ".py",
   "mimetype": "text/x-python",
   "name": "python",
   "nbconvert_exporter": "python",
   "pygments_lexer": "ipython3",
   "version": "3.9.13"
  }
 },
 "nbformat": 4,
 "nbformat_minor": 5
}
