{
 "cells": [
  {
   "cell_type": "code",
   "execution_count": 1,
   "metadata": {},
   "outputs": [
    {
     "name": "stdout",
     "output_type": "stream",
     "text": [
      "             publishedAt                                              title  \\\n",
      "0   2024-06-25T23:59:50Z  $100 billion m-cap ICICI Bank 6th Indian compa...   \n",
      "1   2024-06-25T23:57:03Z  2 ASX shares that would pass Peter Lynch's fav...   \n",
      "2   2024-06-25T23:44:00Z  Hecla Mining VP sells $71,411 in stock, acquir...   \n",
      "3   2024-06-25T23:41:07Z  Will Ford Pay Another Special Dividend in 2025...   \n",
      "4   2024-06-25T23:35:54Z  Quest 2 Is Now Out Of Stock In The US - Is The...   \n",
      "..                   ...                                                ...   \n",
      "95  2024-06-25T21:23:56Z  Saba Capital Management buys Destra Multi-Alte...   \n",
      "96  2024-06-25T21:23:00Z  Twelve Seas Investment Company II Announces Te...   \n",
      "97  2024-06-25T21:16:42Z  Crane Advisory LLC Increases Stock Position in...   \n",
      "98  2024-06-25T21:15:21Z  Apple shares rise Tuesday, but still underperf...   \n",
      "99  2024-06-25T21:14:31Z                                       News 6/26/24   \n",
      "\n",
      "                                          description  \n",
      "0   The other five companies that have reached the...  \n",
      "1   Looking for cheap ASX shares relative to their...  \n",
      "2   Hecla Mining VP sells $71,411 in stock, acquir...  \n",
      "3   Get your Portfolio automatically emailed to yo...  \n",
      "4   BREAKING: Quest 2 is now out of stock in the U...  \n",
      "..                                                ...  \n",
      "95  Saba Capital Management buys Destra Multi-Alte...  \n",
      "96  New York, NY, June 25, 2024 (GLOBE NEWSWIRE) -...  \n",
      "97  Crane Advisory LLC raised its holdings in John...  \n",
      "98  Apple (AAPL) stock edged up 0.45% to close at ...  \n",
      "99  Top News HHS releases a final rule that establ...  \n",
      "\n",
      "[100 rows x 3 columns]\n"
     ]
    }
   ],
   "source": [
    "import requests\n",
    "import pandas as pd\n",
    "import nltk\n",
    "from nltk.sentiment.vader import SentimentIntensityAnalyzer\n",
    "from datetime import datetime, timedelta\n",
    "import yfinance as yf\n",
    "\n",
    "#Phase 1: get news data via newsapi.org\n",
    "\n",
    "# Set your API key\n",
    "api_key = '71015ea355524adaa5463cf1651763b6'\n",
    "\n",
    "# Define the date range\n",
    "end_date = datetime.now()\n",
    "start_date = end_date - timedelta(days=30) # free tier caps us off at 30 days, so maybe we can do a day by day analysis?\n",
    "\n",
    "# Fetch news articles\n",
    "url = (f'https://newsapi.org/v2/everything?q=stock market&from={start_date.strftime(\"%Y-%m-%d\")}'\n",
    "       f'&to={end_date.strftime(\"%Y-%m-%d\")}&language=en&sortBy=publishedAt&apiKey={api_key}')\n",
    "response = requests.get(url)\n",
    "# print(response.json())\n",
    "articles = response.json()['articles']\n",
    "\n",
    "#Store the articles in a pandas df (could use spark in future for improved performance/scalability)\n",
    "df = pd.DataFrame(articles)\n",
    "print(df[['publishedAt', 'title', 'description']])"
   ]
  },
  {
   "cell_type": "code",
   "execution_count": 2,
   "metadata": {},
   "outputs": [
    {
     "name": "stdout",
     "output_type": "stream",
     "text": [
      "          day  sentiment\n",
      "0  2024-06-25   0.264103\n",
      "        week  sentiment\n",
      "0 2024-06-24   0.264103\n"
     ]
    },
    {
     "name": "stderr",
     "output_type": "stream",
     "text": [
      "[nltk_data] Downloading package vader_lexicon to\n",
      "[nltk_data]     C:\\Users\\Rohan\\AppData\\Roaming\\nltk_data...\n",
      "[nltk_data]   Package vader_lexicon is already up-to-date!\n",
      "C:\\Users\\Rohan\\AppData\\Local\\Temp/ipykernel_18468/1754397334.py:19: UserWarning: Converting to PeriodArray/Index representation will drop timezone information.\n",
      "  df['week'] = df['publishedAt'].dt.to_period('W').apply(lambda r: r.start_time)\n"
     ]
    }
   ],
   "source": [
    "#Phase 2: Pre-processing & Sentiment Analysis\n",
    "nltk.download('vader_lexicon')\n",
    "sid = SentimentIntensityAnalyzer()\n",
    "\n",
    "# Function to get the sentiment score\n",
    "def get_sentiment_score(text):\n",
    "    return sid.polarity_scores(text)['compound'] if text else 0\n",
    "df['sentiment'] = df['description'].apply(get_sentiment_score)\n",
    "# df['sentiment'] = df['description'].apply(lambda x: sid.polarity_scores(x)['compound'] if x else 0)\n",
    "\n",
    "#Converting publishedAt to datetime\n",
    "df['publishedAt'] = pd.to_datetime(df['publishedAt'])\n",
    "\n",
    "#Grouping by day and calculating average sentiment\n",
    "df['day'] = df['publishedAt'].dt.date\n",
    "daily_sentiment = df.groupby('day')['sentiment'].mean().reset_index()\n",
    "\n",
    "#Grouping by week and calculating average sentiment\n",
    "df['week'] = df['publishedAt'].dt.to_period('W').apply(lambda r: r.start_time)\n",
    "weekly_sentiment = df.groupby('week')['sentiment'].mean().reset_index()\n",
    "\n",
    "print(daily_sentiment)\n",
    "print(weekly_sentiment)"
   ]
  },
  {
   "cell_type": "code",
   "execution_count": 3,
   "metadata": {},
   "outputs": [
    {
     "name": "stderr",
     "output_type": "stream",
     "text": [
      "[*********************100%%**********************]  1 of 1 completed"
     ]
    },
    {
     "name": "stdout",
     "output_type": "stream",
     "text": [
      "Stock Data with Daily Returns:\n",
      "           Date  daily_return\n",
      "0   2024-05-28           NaN\n",
      "1   2024-05-29     -0.007002\n",
      "2   2024-05-30     -0.006634\n",
      "3   2024-05-31      0.009108\n",
      "4   2024-06-03      0.000815\n",
      "5   2024-06-04      0.001118\n",
      "6   2024-06-05      0.011885\n",
      "7   2024-06-06     -0.000019\n",
      "8   2024-06-07     -0.001216\n",
      "9   2024-06-10      0.003090\n",
      "10  2024-06-11      0.002408\n",
      "11  2024-06-12      0.008213\n",
      "12  2024-06-13      0.002013\n",
      "13  2024-06-14      0.000608\n",
      "14  2024-06-17      0.007959\n",
      "15  2024-06-18      0.002541\n",
      "16  2024-06-20     -0.002717\n",
      "17  2024-06-21     -0.001341\n",
      "18  2024-06-24     -0.003251\n",
      "19  2024-06-25      0.003851\n",
      "Stock Data with Weekly Returns:\n",
      "         week  weekly_return\n",
      "0 2024-05-27      -0.004605\n",
      "1 2024-06-03       0.011766\n",
      "2 2024-06-10       0.013292\n",
      "3 2024-06-17      -0.001523\n",
      "4 2024-06-24       0.003851\n"
     ]
    },
    {
     "name": "stderr",
     "output_type": "stream",
     "text": [
      "\n"
     ]
    }
   ],
   "source": [
    "#fetching stock market data for daily and weekly trends\n",
    "\n",
    "# Define the stock ticker and date range\n",
    "ticker = 'SPY'  # S&P 500 ETF as an example\n",
    "end_date = datetime.now()\n",
    "start_date = end_date - timedelta(days=30)\n",
    "stock_data = yf.download(ticker, start=start_date, end=end_date, interval='1d')\n",
    "\n",
    "# Calculate daily returns\n",
    "stock_data['daily_return'] = stock_data['Adj Close'].pct_change()\n",
    "\n",
    "# Reset the index to join with sentiment data\n",
    "stock_data.reset_index(inplace=True)\n",
    "\n",
    "# Convert Date to date\n",
    "stock_data['Date'] = stock_data['Date'].dt.date\n",
    "\n",
    "# Display the stock data\n",
    "print(\"Stock Data with Daily Returns:\\n\", stock_data[['Date', 'daily_return']])\n",
    "\n",
    "# Calculate weekly returns\n",
    "stock_data['week'] = pd.to_datetime(stock_data['Date']).dt.to_period('W').apply(lambda r: r.start_time)\n",
    "weekly_stock_data = stock_data.groupby('week').apply(lambda x: (x['Adj Close'].iloc[-1] - x['Adj Close'].iloc[0]) / x['Adj Close'].iloc[0]).reset_index()\n",
    "weekly_stock_data.columns = ['week', 'weekly_return']\n",
    "\n",
    "# Display the weekly stock data\n",
    "print(\"Stock Data with Weekly Returns:\\n\", weekly_stock_data)"
   ]
  },
  {
   "cell_type": "code",
   "execution_count": 10,
   "metadata": {},
   "outputs": [
    {
     "name": "stdout",
     "output_type": "stream",
     "text": [
      "          day  sentiment        Date  daily_return\n",
      "0  2024-06-25   0.264103  2024-06-25      0.003851\n"
     ]
    }
   ],
   "source": [
    "# Joining the sentiment data with stock performance for daily and weekly trends and correlating them\n",
    "\n",
    "# Merge daily sentiment and stock data\n",
    "daily_combined_data = pd.merge(daily_sentiment, stock_data[['Date', 'daily_return']], left_on='day', right_on='Date', how='inner')\n",
    "\n",
    "print(daily_combined_data.head(10))\n",
    "\n",
    "# # Display the daily combined data\n",
    "# print(\"Daily Combined Data:\\n\", daily_combined_data[['day', 'sentiment', 'daily_return']])\n",
    "\n",
    "# # Calculate daily correlation\n",
    "# daily_correlation = daily_combined_data['sentiment'].corr(daily_combined_data['daily_return'])\n",
    "# print(f'Correlation between daily sentiment and daily stock performance: {daily_correlation}')\n"
   ]
  },
  {
   "cell_type": "code",
   "execution_count": null,
   "metadata": {},
   "outputs": [],
   "source": []
  },
  {
   "cell_type": "code",
   "execution_count": null,
   "metadata": {},
   "outputs": [],
   "source": []
  }
 ],
 "metadata": {
  "kernelspec": {
   "display_name": "Python 3",
   "language": "python",
   "name": "python3"
  },
  "language_info": {
   "codemirror_mode": {
    "name": "ipython",
    "version": 3
   },
   "file_extension": ".py",
   "mimetype": "text/x-python",
   "name": "python",
   "nbconvert_exporter": "python",
   "pygments_lexer": "ipython3",
   "version": "3.9.13"
  }
 },
 "nbformat": 4,
 "nbformat_minor": 2
}
