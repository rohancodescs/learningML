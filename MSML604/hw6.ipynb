{
 "cells": [
  {
   "cell_type": "markdown",
   "metadata": {},
   "source": [
    "Rohan Bhatt - Homework 6 - MSML604"
   ]
  },
  {
   "cell_type": "markdown",
   "metadata": {},
   "source": [
    "Part (a) below"
   ]
  },
  {
   "cell_type": "code",
   "execution_count": 6,
   "metadata": {},
   "outputs": [
    {
     "name": "stdout",
     "output_type": "stream",
     "text": [
      "status: optimal\n",
      "optimal value: -0.41407648937777874\n",
      "x = [0.08766437 0.88666249 0.02567314]\n"
     ]
    }
   ],
   "source": [
    "import cvxpy as cp\n",
    "import numpy as np\n",
    "\n",
    "A = np.array([[4.0, 0.9, 2.0], [1.3,  0.6, 6.0]])\n",
    "b = np.array([1.2, 0.8])\n",
    "n = 3\n",
    "#x is the variable we're optimizing\n",
    "x = cp.Variable(3, nonneg=True)  # we set nonneg=True to make sure x >= 0\n",
    "#objective function x_ilog(x_i), where we're minimizing the sum of x_i l\n",
    "obj_expr = cp.sum(cp.rel_entr(x, 1))\n",
    "\n",
    "#constraints stores a list of expression trees\n",
    "constraints = []\n",
    "constraints += [A @ x <= b]\n",
    "constraints += [cp.sum(x) == 1]\n",
    "\n",
    "#formulating actual problem where we're minimizing the objective function with the constraints\n",
    "problem = cp.Problem(cp.Minimize(obj_expr), constraints)\n",
    "result = problem.solve()\n",
    "print(\"status:\", problem.status)        \n",
    "print(\"optimal value:\", problem.value)  \n",
    "print(\"x =\", x.value)\n"
   ]
  },
  {
   "cell_type": "markdown",
   "metadata": {},
   "source": [
    "We got:\n",
    "* An optimal status\n",
    "* An optimal value of -0.4141 which is good because we know x_ilog(x_i) < 0 for the sum of 1-3 xilog(x_o)\n",
    "* The x array makes sense because the 3 values are non-negative and sum to 1 which satisfies Ax <= b"
   ]
  },
  {
   "cell_type": "markdown",
   "metadata": {},
   "source": [
    "Part (b) below:"
   ]
  },
  {
   "cell_type": "code",
   "execution_count": 8,
   "metadata": {},
   "outputs": [
    {
     "name": "stdout",
     "output_type": "stream",
     "text": [
      "status: optimal\n",
      "optimal value: -0.4140764895864858\n",
      "lambda = [0.62719848 0.5282025 ]\n"
     ]
    }
   ],
   "source": [
    "A = np.array([[4.0, 0.9, 2.0], [1.3,  0.6, 6.0]])\n",
    "b = np.array([1.2, 0.8])\n",
    "\n",
    "lambda1 = cp.Variable(2, nonneg=True) #>=0 in dimension 2\n",
    "#building expression sum i=1 to 3 e^-a_i^t lambda\n",
    "obj_expr = cp.log_sum_exp(- (A.T @ lambda1))\n",
    "#full objective function:\n",
    "obj = - (b @ lambda1) - obj_expr\n",
    "problem = cp.Problem(cp.Maximize(obj), [])\n",
    "result = problem.solve()\n",
    "\n",
    "print(\"status:\", problem.status)        \n",
    "print(\"optimal value:\", problem.value)  \n",
    "print(\"lambda =\", lambda1.value)\n"
   ]
  },
  {
   "cell_type": "markdown",
   "metadata": {},
   "source": [
    "part (c)"
   ]
  },
  {
   "cell_type": "code",
   "execution_count": 9,
   "metadata": {},
   "outputs": [
    {
     "name": "stdout",
     "output_type": "stream",
     "text": [
      "partial1,2,3 = [np.float64(1.7612174364657207), np.float64(1.7611092555880876), np.float64(1.7613019901966067)]\n"
     ]
    }
   ],
   "source": [
    "# x^* and lambda^*:\n",
    "x_star = np.array([0.08766437, 0.88666249, 0.02567314])\n",
    "lambda_star = np.array([0.62719848, 0.52820250])\n",
    "\n",
    "A = np.array([\n",
    "    [4.0, 0.9, 2.0],\n",
    "    [1.3, 0.6, 6.0]\n",
    "])\n",
    "\n",
    "#getting partial for each i\n",
    "def partial_i(i):\n",
    "    return np.log(x_star[i]) + 1 + lambda_star[0]*A[0,i] + lambda_star[1]*A[1,i]\n",
    "partial = [partial_i(i) for i in range(3)]\n",
    "print(\"partial1,2,3 =\", partial)\n"
   ]
  },
  {
   "cell_type": "code",
   "execution_count": null,
   "metadata": {},
   "outputs": [],
   "source": []
  }
 ],
 "metadata": {
  "kernelspec": {
   "display_name": "Python 3",
   "language": "python",
   "name": "python3"
  },
  "language_info": {
   "codemirror_mode": {
    "name": "ipython",
    "version": 3
   },
   "file_extension": ".py",
   "mimetype": "text/x-python",
   "name": "python",
   "nbconvert_exporter": "python",
   "pygments_lexer": "ipython3",
   "version": "3.9.6"
  }
 },
 "nbformat": 4,
 "nbformat_minor": 2
}
